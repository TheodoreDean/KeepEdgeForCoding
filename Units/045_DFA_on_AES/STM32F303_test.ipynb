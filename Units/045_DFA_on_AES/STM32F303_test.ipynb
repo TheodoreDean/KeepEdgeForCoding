{
 "cells": [
  {
   "cell_type": "code",
   "execution_count": 1,
   "id": "231a8576-e7cf-42c4-b3ac-1d43a41dcb5a",
   "metadata": {},
   "outputs": [],
   "source": [
    "from power_shorter import *\n",
    "import time\n",
    "import serial\n",
    "import faultviz\n",
    "import random\n"
   ]
  },
  {
   "cell_type": "code",
   "execution_count": 2,
   "id": "558ac9e4-ed11-4daf-80ed-6d0d943e62bb",
   "metadata": {},
   "outputs": [],
   "source": [
    "ps_dev = PowerShorter(\"/dev/tty.usbserial-11310\")"
   ]
  },
  {
   "cell_type": "code",
   "execution_count": 3,
   "id": "26a54baa-8394-4dbc-b076-10ede6b9a105",
   "metadata": {},
   "outputs": [],
   "source": [
    "ps_dev.relay(RELAY.RELAY2,1)\n",
    "time.sleep(1)\n",
    "ps_dev.relay(RELAY.RELAY2,0)\n",
    "time.sleep(1)"
   ]
  },
  {
   "cell_type": "code",
   "execution_count": 4,
   "id": "e97bcd86-f38f-4732-9fdb-4656717f879f",
   "metadata": {},
   "outputs": [],
   "source": [
    "#ps_dev.gpio(GPIO.GPIO1, 0)\n",
    "#time.sleep(1)\n",
    "#ps_dev.gpio(GPIO.GPIO1, 1)\n",
    "\n",
    "def restart():\n",
    "    ps_dev.relay(RELAY.RELAY2,1)\n",
    "    time.sleep(1)\n",
    "    ps_dev.relay(RELAY.RELAY2,0)\n",
    "    time.sleep(1)\n",
    "    "
   ]
  },
  {
   "cell_type": "code",
   "execution_count": 5,
   "id": "71c5fb15-0968-46a0-b349-7fee6d3db1fb",
   "metadata": {},
   "outputs": [
    {
     "name": "stdout",
     "output_type": "stream",
     "text": [
      "# Starting io.deephaven.python.server.EmbeddedServer\n",
      "deephaven.cacheDir=/Users/pengyi/Library/Caches/io.Deephaven-Data-Labs.deephaven\n",
      "deephaven.configDir=/Users/pengyi/Library/Application Support/io.Deephaven-Data-Labs.deephaven\n",
      "deephaven.dataDir=/Users/pengyi/Library/Application Support/io.Deephaven-Data-Labs.deephaven\n",
      "# io.deephaven.internal.log.LoggerFactoryServiceLoaderImpl: searching for 'io.deephaven.internal.log.LoggerFactory'...\n",
      "# io.deephaven.internal.log.LoggerFactoryServiceLoaderImpl: found 'io.deephaven.internal.log.LoggerFactorySlf4j'\n",
      "Server started on port 12345\n"
     ]
    }
   ],
   "source": [
    "faultviz.start_view_service(port=12345) "
   ]
  },
  {
   "cell_type": "code",
   "execution_count": 6,
   "id": "5a81d683-eb5d-49d2-9b8f-893ba5cd684b",
   "metadata": {},
   "outputs": [],
   "source": [
    "vt = faultviz.ViewWidget()"
   ]
  },
  {
   "cell_type": "code",
   "execution_count": 7,
   "id": "a26b5b21-29bf-4d86-9158-b50056081eda",
   "metadata": {},
   "outputs": [],
   "source": [
    "ser = serial.Serial('/dev/tty.usbmodem11202', 38400, parity=serial.PARITY_EVEN, timeout=0.5)"
   ]
  },
  {
   "cell_type": "code",
   "execution_count": 8,
   "id": "d2e65aba-df68-45b5-9a36-73c97bdc5b6b",
   "metadata": {},
   "outputs": [],
   "source": [
    "def stm32_F303_attack():\n",
    "#    ps_dev.gpio(GPIO.GPIO1, 0)\n",
    "#    time.sleep(1)\n",
    "#    ps_dev.gpio(GPIO.GPIO1, 1)\n",
    "#    glitch_delay = random.randint(430000, 435000)\n",
    "#    glitch_delay = random.randint(435000, 440000)\n",
    "#    glitch_delay = random.randint(435600, 443800)\n",
    "#    glitch_delay = random.randint(438000, 443000)\n",
    "#    glitch_delay = random.randint(440000, 445000)\n",
    "#    glitch_delay = random.randint(435600, 442400)\n",
    "#    glitch_delay = random.randint(440000, 450000)\n",
    "#    glitch_delay = random.randint(430000, 450000)\n",
    "    glitch_delay = random.randint(435000, 445000)\n",
    "\n",
    "\n",
    "#    glitch_pulse = random.randint(8, 9)\n",
    "    glitch_pulse = random.randint(30, 32)\n",
    "   \n",
    "    ps_dev.engine_cfg(Engine.E1, [(0, glitch_delay), (1, glitch_pulse), (0, 1)])    # 设置毛刺\n",
    "   # s.write(b'\\x7f')\n",
    "   # res1 = s.readall().hex()\n",
    "    \n",
    "    ps_dev.arm(Engine.E1)\n",
    "    time.sleep(0.2)\n",
    "    ser.reset_input_buffer()   # 清空串口缓冲区\n",
    "    ser.write(b'AES\\n')        # 发送 AES 执行加密运算\n",
    "    line = ser.read(32)        # 获取 AES 加密结果\n",
    "    \n",
    "    try:\n",
    "        c = bytes.fromhex(line.decode())\n",
    "        s = ps_dev.state(Engine.E1)\n",
    "        if s == \"glitched\":\n",
    "#            if dfaaes.DfaAESSubFunctions.check_fault_pair(c_correct, c) == 9:  # 检查是否是需要的错误密文\n",
    "            if line == b'':\n",
    "                restart()          \n",
    "            if line != b'539ba31a988912a8bd8cec9331477402' and line != b'':\n",
    "                print(\"wrong AES output is\",line)\n",
    "                status = \"SUCCESS\"\n",
    "                vt.update(state = status, delay = glitch_delay, pulse = glitch_pulse, result = c.hex())\n",
    "\n",
    "            else:\n",
    "                status = \"NORMAL\"\n",
    "#                print(\"Normal !!！\")\n",
    "                vt.update(state = status, delay = glitch_delay, pulse = glitch_pulse, result = c.hex())\n",
    "#        print(\"end of if !!！\")\n",
    "\n",
    "    except:\n",
    "        restart()\n",
    "        print(\"error!!!\")"
   ]
  },
  {
   "cell_type": "code",
   "execution_count": 9,
   "id": "77dce26e-1879-437f-ad31-8c7d35d1656c",
   "metadata": {
    "scrolled": true
   },
   "outputs": [],
   "source": [
    "stm32_F303_attack()"
   ]
  },
  {
   "cell_type": "code",
   "execution_count": 10,
   "id": "525970c5-7025-4704-be1b-bf8dd8333ab0",
   "metadata": {},
   "outputs": [],
   "source": [
    "#restart()"
   ]
  },
  {
   "cell_type": "code",
   "execution_count": 11,
   "id": "715699ca-3066-400a-9a58-63064a3e7528",
   "metadata": {},
   "outputs": [
    {
     "name": "stdout",
     "output_type": "stream",
     "text": [
      "wrong AES output is b'53e8a31a318912a8bd8cec2c31473302'\n",
      "wrong AES output is b'b29ba31a988912a8bd8c1193318c7402'\n",
      "wrong AES output is b'536df21a1ecc12a8978cec303147373b'\n",
      "wrong AES output is b'539ba38d988997a8bde3ec93c7477402'\n",
      "wrong AES output is b'd39ba31a98891205bd8c369331ae7402'\n"
     ]
    },
    {
     "ename": "error",
     "evalue": "(6, 'Device not configured')",
     "output_type": "error",
     "traceback": [
      "\u001b[31m---------------------------------------------------------------------------\u001b[39m",
      "\u001b[31mOSError\u001b[39m                                   Traceback (most recent call last)",
      "\u001b[36mFile \u001b[39m\u001b[32m~/.pyenv/versions/3.13.3/lib/python3.13/site-packages/serial/serialposix.py:575\u001b[39m, in \u001b[36mSerial.read\u001b[39m\u001b[34m(self, size)\u001b[39m\n\u001b[32m    574\u001b[39m         \u001b[38;5;28;01mbreak\u001b[39;00m   \u001b[38;5;66;03m# timeout\u001b[39;00m\n\u001b[32m--> \u001b[39m\u001b[32m575\u001b[39m     buf = \u001b[43mos\u001b[49m\u001b[43m.\u001b[49m\u001b[43mread\u001b[49m\u001b[43m(\u001b[49m\u001b[38;5;28;43mself\u001b[39;49m\u001b[43m.\u001b[49m\u001b[43mfd\u001b[49m\u001b[43m,\u001b[49m\u001b[43m \u001b[49m\u001b[43msize\u001b[49m\u001b[43m \u001b[49m\u001b[43m-\u001b[49m\u001b[43m \u001b[49m\u001b[38;5;28;43mlen\u001b[39;49m\u001b[43m(\u001b[49m\u001b[43mread\u001b[49m\u001b[43m)\u001b[49m\u001b[43m)\u001b[49m\n\u001b[32m    576\u001b[39m \u001b[38;5;28;01mexcept\u001b[39;00m \u001b[38;5;167;01mOSError\u001b[39;00m \u001b[38;5;28;01mas\u001b[39;00m e:\n\u001b[32m    577\u001b[39m     \u001b[38;5;66;03m# this is for Python 3.x where select.error is a subclass of\u001b[39;00m\n\u001b[32m    578\u001b[39m     \u001b[38;5;66;03m# OSError ignore BlockingIOErrors and EINTR. other errors are shown\u001b[39;00m\n\u001b[32m    579\u001b[39m     \u001b[38;5;66;03m# https://www.python.org/dev/peps/pep-0475.\u001b[39;00m\n",
      "\u001b[31mOSError\u001b[39m: [Errno 6] Device not configured",
      "\nDuring handling of the above exception, another exception occurred:\n",
      "\u001b[31mSerialException\u001b[39m                           Traceback (most recent call last)",
      "\u001b[36mCell\u001b[39m\u001b[36m \u001b[39m\u001b[32mIn[8]\u001b[39m\u001b[32m, line 31\u001b[39m, in \u001b[36mstm32_F303_attack\u001b[39m\u001b[34m()\u001b[39m\n\u001b[32m     30\u001b[39m         c = \u001b[38;5;28mbytes\u001b[39m.fromhex(line.decode())\n\u001b[32m---> \u001b[39m\u001b[32m31\u001b[39m         s = \u001b[43mps_dev\u001b[49m\u001b[43m.\u001b[49m\u001b[43mstate\u001b[49m\u001b[43m(\u001b[49m\u001b[43mEngine\u001b[49m\u001b[43m.\u001b[49m\u001b[43mE1\u001b[49m\u001b[43m)\u001b[49m\n\u001b[32m     32\u001b[39m         \u001b[38;5;28;01mif\u001b[39;00m s == \u001b[33m\"\u001b[39m\u001b[33mglitched\u001b[39m\u001b[33m\"\u001b[39m:\n\u001b[32m     33\u001b[39m \u001b[38;5;66;03m#            if dfaaes.DfaAESSubFunctions.check_fault_pair(c_correct, c) == 9:  # 检查是否是需要的错误密文\u001b[39;00m\n",
      "\u001b[36mFile \u001b[39m\u001b[32m~/.pyenv/versions/3.13.3/lib/python3.13/site-packages/power_shorter/ctrl.py:174\u001b[39m, in \u001b[36mPowerShorter.state\u001b[39m\u001b[34m(self, engine)\u001b[39m\n\u001b[32m    173\u001b[39m _send(\u001b[38;5;28mself\u001b[39m._dev, \u001b[32m0x04\u001b[39m, engine_bytes)\n\u001b[32m--> \u001b[39m\u001b[32m174\u001b[39m state = \u001b[43m_recv\u001b[49m\u001b[43m(\u001b[49m\u001b[38;5;28;43mself\u001b[39;49m\u001b[43m.\u001b[49m\u001b[43m_dev\u001b[49m\u001b[43m,\u001b[49m\u001b[43m \u001b[49m\u001b[32;43m2\u001b[39;49m\u001b[43m)\u001b[49m\n\u001b[32m    175\u001b[39m \u001b[38;5;28;01mreturn\u001b[39;00m \u001b[33m'\u001b[39m\u001b[33marmed\u001b[39m\u001b[33m'\u001b[39m \u001b[38;5;28;01mif\u001b[39;00m state[\u001b[32m1\u001b[39m] == \u001b[32m0\u001b[39m \u001b[38;5;28;01melse\u001b[39;00m \u001b[33m'\u001b[39m\u001b[33mglitched\u001b[39m\u001b[33m'\u001b[39m\n",
      "\u001b[36mFile \u001b[39m\u001b[32m~/.pyenv/versions/3.13.3/lib/python3.13/site-packages/power_shorter/ctrl.py:40\u001b[39m, in \u001b[36m_recv\u001b[39m\u001b[34m(dev, data_len)\u001b[39m\n\u001b[32m     39\u001b[39m xor = \u001b[32m0x00\u001b[39m\n\u001b[32m---> \u001b[39m\u001b[32m40\u001b[39m resp = \u001b[43mdev\u001b[49m\u001b[43m.\u001b[49m\u001b[43mread\u001b[49m\u001b[43m(\u001b[49m\u001b[43mdata_len\u001b[49m\u001b[43m+\u001b[49m\u001b[32;43m3\u001b[39;49m\u001b[43m)\u001b[49m \u001b[38;5;66;03m# 帧头+状态+数据域+帧尾\u001b[39;00m\n\u001b[32m     41\u001b[39m logger.debug(\u001b[33mf\u001b[39m\u001b[33m\"\u001b[39m\u001b[33m<<< \u001b[39m\u001b[38;5;132;01m{\u001b[39;00mresp.hex()\u001b[38;5;132;01m}\u001b[39;00m\u001b[33m\"\u001b[39m)\n",
      "\u001b[36mFile \u001b[39m\u001b[32m~/.pyenv/versions/3.13.3/lib/python3.13/site-packages/serial/serialposix.py:581\u001b[39m, in \u001b[36mSerial.read\u001b[39m\u001b[34m(self, size)\u001b[39m\n\u001b[32m    580\u001b[39m     \u001b[38;5;28;01mif\u001b[39;00m e.errno \u001b[38;5;129;01mnot\u001b[39;00m \u001b[38;5;129;01min\u001b[39;00m (errno.EAGAIN, errno.EALREADY, errno.EWOULDBLOCK, errno.EINPROGRESS, errno.EINTR):\n\u001b[32m--> \u001b[39m\u001b[32m581\u001b[39m         \u001b[38;5;28;01mraise\u001b[39;00m SerialException(\u001b[33m'\u001b[39m\u001b[33mread failed: \u001b[39m\u001b[38;5;132;01m{}\u001b[39;00m\u001b[33m'\u001b[39m.format(e))\n\u001b[32m    582\u001b[39m \u001b[38;5;28;01mexcept\u001b[39;00m select.error \u001b[38;5;28;01mas\u001b[39;00m e:\n\u001b[32m    583\u001b[39m     \u001b[38;5;66;03m# this is for Python 2.x\u001b[39;00m\n\u001b[32m    584\u001b[39m     \u001b[38;5;66;03m# ignore BlockingIOErrors and EINTR. all errors are shown\u001b[39;00m\n\u001b[32m    585\u001b[39m     \u001b[38;5;66;03m# see also http://www.python.org/dev/peps/pep-3151/#select\u001b[39;00m\n",
      "\u001b[31mSerialException\u001b[39m: read failed: [Errno 6] Device not configured",
      "\nDuring handling of the above exception, another exception occurred:\n",
      "\u001b[31merror\u001b[39m                                     Traceback (most recent call last)",
      "\u001b[36mCell\u001b[39m\u001b[36m \u001b[39m\u001b[32mIn[11]\u001b[39m\u001b[32m, line 3\u001b[39m\n\u001b[32m      1\u001b[39m attackflag = \u001b[32m1\u001b[39m\n\u001b[32m      2\u001b[39m \u001b[38;5;28;01mwhile\u001b[39;00m(attackflag):\n\u001b[32m----> \u001b[39m\u001b[32m3\u001b[39m     \u001b[43mstm32_F303_attack\u001b[49m\u001b[43m(\u001b[49m\u001b[43m)\u001b[49m\n",
      "\u001b[36mCell\u001b[39m\u001b[36m \u001b[39m\u001b[32mIn[8]\u001b[39m\u001b[32m, line 48\u001b[39m, in \u001b[36mstm32_F303_attack\u001b[39m\u001b[34m()\u001b[39m\n\u001b[32m     45\u001b[39m \u001b[38;5;66;03m#        print(\"end of if !!！\")\u001b[39;00m\n\u001b[32m     47\u001b[39m     \u001b[38;5;28;01mexcept\u001b[39;00m:\n\u001b[32m---> \u001b[39m\u001b[32m48\u001b[39m         \u001b[43mrestart\u001b[49m\u001b[43m(\u001b[49m\u001b[43m)\u001b[49m\n\u001b[32m     49\u001b[39m         \u001b[38;5;28mprint\u001b[39m(\u001b[33m\"\u001b[39m\u001b[33merror!!!\u001b[39m\u001b[33m\"\u001b[39m)\n",
      "\u001b[36mCell\u001b[39m\u001b[36m \u001b[39m\u001b[32mIn[4]\u001b[39m\u001b[32m, line 6\u001b[39m, in \u001b[36mrestart\u001b[39m\u001b[34m()\u001b[39m\n\u001b[32m      5\u001b[39m \u001b[38;5;28;01mdef\u001b[39;00m\u001b[38;5;250m \u001b[39m\u001b[34mrestart\u001b[39m():\n\u001b[32m----> \u001b[39m\u001b[32m6\u001b[39m     \u001b[43mps_dev\u001b[49m\u001b[43m.\u001b[49m\u001b[43mrelay\u001b[49m\u001b[43m(\u001b[49m\u001b[43mRELAY\u001b[49m\u001b[43m.\u001b[49m\u001b[43mRELAY2\u001b[49m\u001b[43m,\u001b[49m\u001b[32;43m1\u001b[39;49m\u001b[43m)\u001b[49m\n\u001b[32m      7\u001b[39m     time.sleep(\u001b[32m1\u001b[39m)\n\u001b[32m      8\u001b[39m     ps_dev.relay(RELAY.RELAY2,\u001b[32m0\u001b[39m)\n",
      "\u001b[36mFile \u001b[39m\u001b[32m~/.pyenv/versions/3.13.3/lib/python3.13/site-packages/power_shorter/ctrl.py:97\u001b[39m, in \u001b[36mPowerShorter.relay\u001b[39m\u001b[34m(self, idx, value)\u001b[39m\n\u001b[32m     95\u001b[39m \u001b[38;5;28;01mif\u001b[39;00m value \u001b[38;5;129;01mnot\u001b[39;00m \u001b[38;5;129;01min\u001b[39;00m [\u001b[32m0\u001b[39m, \u001b[32m1\u001b[39m]:\n\u001b[32m     96\u001b[39m     \u001b[38;5;28;01mraise\u001b[39;00m \u001b[38;5;167;01mValueError\u001b[39;00m(\u001b[33m'\u001b[39m\u001b[33mrelay value must be 0 or 1\u001b[39m\u001b[33m'\u001b[39m)\n\u001b[32m---> \u001b[39m\u001b[32m97\u001b[39m \u001b[43m_send\u001b[49m\u001b[43m(\u001b[49m\u001b[38;5;28;43mself\u001b[39;49m\u001b[43m.\u001b[49m\u001b[43m_dev\u001b[49m\u001b[43m,\u001b[49m\u001b[43m \u001b[49m\u001b[32;43m0x00\u001b[39;49m\u001b[43m,\u001b[49m\u001b[43m \u001b[49m\u001b[38;5;28;43mbytes\u001b[39;49m\u001b[43m(\u001b[49m\u001b[43m[\u001b[49m\u001b[43midx\u001b[49m\u001b[43m,\u001b[49m\u001b[43m \u001b[49m\u001b[43mvalue\u001b[49m\u001b[43m]\u001b[49m\u001b[43m)\u001b[49m\u001b[43m)\u001b[49m\n\u001b[32m     98\u001b[39m _recv(\u001b[38;5;28mself\u001b[39m._dev, \u001b[32m0\u001b[39m)\n",
      "\u001b[36mFile \u001b[39m\u001b[32m~/.pyenv/versions/3.13.3/lib/python3.13/site-packages/power_shorter/ctrl.py:29\u001b[39m, in \u001b[36m_send\u001b[39m\u001b[34m(dev, ins, data)\u001b[39m\n\u001b[32m     28\u001b[39m \u001b[38;5;28;01mdef\u001b[39;00m\u001b[38;5;250m \u001b[39m\u001b[34m_send\u001b[39m(dev, ins, data):\n\u001b[32m---> \u001b[39m\u001b[32m29\u001b[39m     \u001b[43mdev\u001b[49m\u001b[43m.\u001b[49m\u001b[43mreset_input_buffer\u001b[49m\u001b[43m(\u001b[49m\u001b[43m)\u001b[49m\n\u001b[32m     30\u001b[39m     dev.reset_output_buffer()\n\u001b[32m     31\u001b[39m     xor = ins\n",
      "\u001b[36mFile \u001b[39m\u001b[32m~/.pyenv/versions/3.13.3/lib/python3.13/site-packages/serial/serialposix.py:683\u001b[39m, in \u001b[36mSerial.reset_input_buffer\u001b[39m\u001b[34m(self)\u001b[39m\n\u001b[32m    681\u001b[39m \u001b[38;5;28;01mif\u001b[39;00m \u001b[38;5;129;01mnot\u001b[39;00m \u001b[38;5;28mself\u001b[39m.is_open:\n\u001b[32m    682\u001b[39m     \u001b[38;5;28;01mraise\u001b[39;00m PortNotOpenError()\n\u001b[32m--> \u001b[39m\u001b[32m683\u001b[39m \u001b[38;5;28;43mself\u001b[39;49m\u001b[43m.\u001b[49m\u001b[43m_reset_input_buffer\u001b[49m\u001b[43m(\u001b[49m\u001b[43m)\u001b[49m\n",
      "\u001b[36mFile \u001b[39m\u001b[32m~/.pyenv/versions/3.13.3/lib/python3.13/site-packages/serial/serialposix.py:677\u001b[39m, in \u001b[36mSerial._reset_input_buffer\u001b[39m\u001b[34m(self)\u001b[39m\n\u001b[32m    675\u001b[39m \u001b[38;5;28;01mdef\u001b[39;00m\u001b[38;5;250m \u001b[39m\u001b[34m_reset_input_buffer\u001b[39m(\u001b[38;5;28mself\u001b[39m):\n\u001b[32m    676\u001b[39m \u001b[38;5;250m    \u001b[39m\u001b[33;03m\"\"\"Clear input buffer, discarding all that is in the buffer.\"\"\"\u001b[39;00m\n\u001b[32m--> \u001b[39m\u001b[32m677\u001b[39m     \u001b[43mtermios\u001b[49m\u001b[43m.\u001b[49m\u001b[43mtcflush\u001b[49m\u001b[43m(\u001b[49m\u001b[38;5;28;43mself\u001b[39;49m\u001b[43m.\u001b[49m\u001b[43mfd\u001b[49m\u001b[43m,\u001b[49m\u001b[43m \u001b[49m\u001b[43mtermios\u001b[49m\u001b[43m.\u001b[49m\u001b[43mTCIFLUSH\u001b[49m\u001b[43m)\u001b[49m\n",
      "\u001b[31merror\u001b[39m: (6, 'Device not configured')"
     ]
    }
   ],
   "source": [
    "attackflag = 1\n",
    "while(attackflag):\n",
    "    stm32_F303_attack()"
   ]
  },
  {
   "cell_type": "code",
   "execution_count": 19,
   "id": "d8eb0655-39d6-4466-891d-9590c0fdb9d9",
   "metadata": {
    "scrolled": true
   },
   "outputs": [
    {
     "data": {
      "application/vnd.jupyter.widget-view+json": {
       "model_id": "67684cc1de274e91b412ef9338b95be1",
       "version_major": 2,
       "version_minor": 0
      },
      "text/plain": [
       "DeephavenWidget(height=150, iframe_url='http://localhost:12345/iframe/table/?name=_0f9b4eb6_acaf_4165_8622_f48…"
      ]
     },
     "metadata": {},
     "output_type": "display_data"
    },
    {
     "data": {
      "application/vnd.jupyter.widget-view+json": {
       "model_id": "79dd51428671468d96646311cdba8792",
       "version_major": 2,
       "version_minor": 0
      },
      "text/plain": [
       "DeephavenWidget(height=600, iframe_url='http://localhost:12345/iframe/table/?name=_0c4a68d9_3502_4c1b_a1ad_51e…"
      ]
     },
     "metadata": {},
     "output_type": "display_data"
    }
   ],
   "source": [
    "vt.show()"
   ]
  },
  {
   "cell_type": "code",
   "execution_count": null,
   "id": "25a3861f-3ebb-4a33-ac9c-714143088aad",
   "metadata": {},
   "outputs": [],
   "source": []
  },
  {
   "cell_type": "code",
   "execution_count": null,
   "id": "7c1d1fa5-1526-4281-a309-889f0623b3c3",
   "metadata": {},
   "outputs": [],
   "source": []
  },
  {
   "cell_type": "code",
   "execution_count": null,
   "id": "73921ca4-6a6f-4730-8b11-782bdc257aed",
   "metadata": {},
   "outputs": [],
   "source": []
  }
 ],
 "metadata": {
  "kernelspec": {
   "display_name": "Python 3 (ipykernel)",
   "language": "python",
   "name": "python3"
  },
  "language_info": {
   "codemirror_mode": {
    "name": "ipython",
    "version": 3
   },
   "file_extension": ".py",
   "mimetype": "text/x-python",
   "name": "python",
   "nbconvert_exporter": "python",
   "pygments_lexer": "ipython3",
   "version": "3.13.3"
  }
 },
 "nbformat": 4,
 "nbformat_minor": 5
}
